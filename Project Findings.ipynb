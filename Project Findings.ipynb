{
 "cells": [
  {
   "cell_type": "markdown",
   "metadata": {},
   "source": [
    "## Major Project Findings:"
   ]
  },
  {
   "cell_type": "markdown",
   "metadata": {},
   "source": [
    "Disaster Dataset:\n",
    "    \n",
    "1. The number of declared Earthquake or Tornado Disasters has remained relatively constant since 1950.\n",
    "2. Hurricanes, storms and floods have all increased in frequency and cost since the 1950's, leading me to believe that rising temperatures and increased rainfall could be to blame. \n",
    "3. The highest spike in declared disasters started after 2002 and continued through 2016(dataset ended in 2016)\n",
    "    "
   ]
  },
  {
   "cell_type": "markdown",
   "metadata": {},
   "source": [
    "Billion Dollar Dataset:\n",
    "\n",
    "1. 2005 and 2017 were the costliest years in terms of Disasters; 2017 saw 362 disasters costing 309499.5 billion and 2005 saw 2002 disasters costing 219220.9. \n",
    "2. Hurricanes (tropical cyclones) appear to have been increasing in frequency and in cost. 2005 saw the largest, most damaging and most fatal of Hurricanes but the years following saw a number of damaging hurricanes. \n",
    "3. Droughts have decreased in severity which leads me to believe that now technology exists to remedy some of the consequences of droughts\n",
    "4. Tropical Cyclones cost the most by far which suggests that the increase in costs can likely be attributed to increasing population and infrastructure in areas that are hit the hardest by hurricanes\n"
   ]
  },
  {
   "cell_type": "markdown",
   "metadata": {},
   "source": [
    "Hail Dataset:\n",
    "1. The number of hail storms have been increasing steadily since 1950's. \n",
    "2. The average diameter and the maximum diameter of hail has been decreasing\n",
    "3. The frequency of hail storms is higher than it was but the damage caused by hail has decreased. "
   ]
  },
  {
   "cell_type": "code",
   "execution_count": null,
   "metadata": {},
   "outputs": [],
   "source": []
  }
 ],
 "metadata": {
  "kernelspec": {
   "display_name": "Python 3",
   "language": "python",
   "name": "python3"
  },
  "language_info": {
   "codemirror_mode": {
    "name": "ipython",
    "version": 3
   },
   "file_extension": ".py",
   "mimetype": "text/x-python",
   "name": "python",
   "nbconvert_exporter": "python",
   "pygments_lexer": "ipython3",
   "version": "3.6.4"
  }
 },
 "nbformat": 4,
 "nbformat_minor": 2
}
