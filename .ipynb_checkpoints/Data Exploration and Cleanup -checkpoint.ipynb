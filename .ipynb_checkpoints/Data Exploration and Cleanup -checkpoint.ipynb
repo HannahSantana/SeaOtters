{
 "cells": [
  {
   "cell_type": "markdown",
   "metadata": {},
   "source": [
    "## Data Exploration and Cleanup Process\n"
   ]
  },
  {
   "cell_type": "markdown",
   "metadata": {},
   "source": [
    "Hannah:\n",
    "\n",
    "The process of finding quality historical data was more challenging than anticipated. Either the datasets did not go back far enough, were inconsistent or simply, did not exist. \n",
    "\n",
    "We realized that between the years of 1950-2018 there was a massive shift towards using computers to electronically keep track of information and that there is a likelihood that some of the datasets reflect that shift. It is possible that in the 1950's, this type of weather data was not recorded accurately or at all. \n",
    "\n",
    "The sources we primarily used were found on Kaggle and usually related back to NOAA or other government weather sources. Some of the datasets were well organized and clean and others were so large that it was difficult to sift through all of the columns. Overall, I found the cleanup was easier than the data discovery process. I was under the impression that this type of information was well documented and I was incorrect. I would be interested in further exploring weather and geo data in the future. \n",
    "\n"
   ]
  },
  {
   "cell_type": "markdown",
   "metadata": {},
   "source": [
    "Jeff:\n",
    "\n",
    "I found that some data was unusable. The first tornado data set had headers but no explanation of what they were so I was only able to get a date and count for the tornados from this data set. Later a team mate found another data set with much better headings but I wasn't sure where it came from so had to get the data documentation from the teammate to make sure that I was using the data properly as at first I was using the wrong column for tornado intensity. Data cleanup was an issue at times as dates need to be changed manually sometimes in the .csv file rather using code as it took more time to write code that sometime didn't work then a few minutes to covert the data quickly to a date in the .csv file."
   ]
  },
  {
   "cell_type": "code",
   "execution_count": null,
   "metadata": {},
   "outputs": [],
   "source": []
  }
 ],
 "metadata": {
  "kernelspec": {
   "display_name": "Python 3",
   "language": "python",
   "name": "python3"
  },
  "language_info": {
   "codemirror_mode": {
    "name": "ipython",
    "version": 3
   },
   "file_extension": ".py",
   "mimetype": "text/x-python",
   "name": "python",
   "nbconvert_exporter": "python",
   "pygments_lexer": "ipython3",
   "version": "3.6.4"
  }
 },
 "nbformat": 4,
 "nbformat_minor": 2
}
