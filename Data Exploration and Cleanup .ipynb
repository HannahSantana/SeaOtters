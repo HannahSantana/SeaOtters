{
 "cells": [
  {
   "cell_type": "markdown",
   "metadata": {},
   "source": [
    "## Data Exploration and Cleanup Process\n"
   ]
  },
  {
   "cell_type": "markdown",
   "metadata": {},
   "source": [
    "Data Exploration:\n",
    "\n",
    "The process of finding quality historical data was more challenging than anticipated. Either the datasets did not go back far enough, were inconsistent or simply, did not exist. \n",
    "\n",
    "We realized that between the years of 1950-2018 there was a massive shift towards using computers to electronically keep track of information and that there is a likelihood that some of the datasets reflect that shift. It is possible that in the 1950's, this type of weather data was not recorded accurately or at all. \n",
    "\n",
    "The sources we primarily used were found on Kaggle and usually related back to NOAA or other government weather sources. Some of the datasets were "
   ]
  }
 ],
 "metadata": {
  "kernelspec": {
   "display_name": "Python 3",
   "language": "python",
   "name": "python3"
  },
  "language_info": {
   "codemirror_mode": {
    "name": "ipython",
    "version": 3
   },
   "file_extension": ".py",
   "mimetype": "text/x-python",
   "name": "python",
   "nbconvert_exporter": "python",
   "pygments_lexer": "ipython3",
   "version": "3.6.4"
  }
 },
 "nbformat": 4,
 "nbformat_minor": 2
}
