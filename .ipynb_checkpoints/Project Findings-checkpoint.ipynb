{
 "cells": [
  {
   "cell_type": "markdown",
   "metadata": {},
   "source": [
    "## Major Project Findings:"
   ]
  },
  {
   "cell_type": "markdown",
   "metadata": {},
   "source": [
    "Disaster Dataset:\n",
    "    \n",
    "1. The number of declared Earthquake or Tornado Disasters has remained relatively constant since 1950.\n",
    "2. Hurricanes, storms and floods have all increased in frequency and cost since the 1950's, leading me to believe that rising temperatures and increased rainfall could be to blame. \n",
    "3. The highest spike in declared disasters started after 2002 and continued through 2016(dataset ended in 2016)\n",
    "    "
   ]
  },
  {
   "cell_type": "markdown",
   "metadata": {},
   "source": [
    "Billion Dollar Dataset:\n",
    "\n",
    "1. 2005 and 2017 were the costliest years in terms of Disasters; 2017 saw 362 disasters costing 309499.5 billion and 2005 saw 2002 disasters costing 219220.9. \n",
    "2. Hurricanes (tropical cyclones) appear to have been increasing in frequency and in cost. 2005 saw the largest, most damaging and most fatal of Hurricanes but the years following saw a number of damaging hurricanes. \n",
    "3. Droughts have decreased in severity which leads me to believe that now technology exists to remedy some of the consequences of droughts\n",
    "4. Tropical Cyclones cost the most by far which suggests that the increase in costs can likely be attributed to increasing population and infrastructure in areas that are hit the hardest by hurricanes\n",
    "5. Droughts were the second most expensive type of disaster which can be attributed to the type of damage they cause and how long they last (Droughts last on average, over 100 days). Droughts typically affect crops and land usage which are difficult to remedy."
   ]
  },
  {
   "cell_type": "markdown",
   "metadata": {},
   "source": [
    "Hail Dataset:\n",
    "1. The number of hail storms have been increasing steadily since 1950's. \n",
    "2. The average diameter and the maximum diameter of hail has been decreasing\n",
    "3. The frequency of hail storms is higher than it was but the damage caused by hail has decreased. "
   ]
  },
  {
   "cell_type": "markdown",
   "metadata": {},
   "source": [
    "Hurricanes:\n",
    "\n",
    "1. There is no discernable evidence from the data we gathered to show that the number of hurricanes, tropical storms, and tropical depressions in the Atlantic Ocean are increasing.\n",
    "2. Since 1950, 1950 has been the year with the highest number of hurricanes recorded, with 11.\n",
    "3. In line with number of hurricanes, the severity of hurricanes (measured by maximum wind speed) does not appear to have an upward trend.\n",
    "\n"
   ]
  },
  {
   "cell_type": "markdown",
   "metadata": {},
   "source": [
    "Temperature\n",
    "\n",
    "1. Climate change is typically measured over hundreds, even thousands of years.\n",
    "2. Even in the limited scope of this project (1950-2018), we can observe an upward trend in average temperatures in the United States."
   ]
  },
  {
   "cell_type": "markdown",
   "metadata": {},
   "source": [
    "Population\n",
    "\n",
    "1. According to census data, the US population has more than doubled in size from 1950 to 2010. Increasing from 150 million to 308 million people in that time.\n",
    "2. The states with the largest population change during this timeframe are California, Florida, and Texas.\n",
    "3. The increase in population with Florida and Texas would fall in line with the increased damage due to Hurricanes due to a higher number of people living in hurricane prone areas. "
   ]
  },
  {
   "cell_type": "markdown",
   "metadata": {},
   "source": [
    "Tornadoes\n",
    "1. The amount of tornadoes has steadily increased since 1950 and the linear regression appears to show there is a correlation between time and increase in tornadoes. I believe this to be a false \"data story\". \n",
    "2. The first 3 years data was available for tornadoes were by far the fewest recorded. Tornadoes increase in the next couple years and continued to rise in general with some years a larger increase and some a decrease. \n",
    "3. The small amount observed at the beginning were the result of a smaller amount of direct observation. Increases in technology and population resulted in larger amounts or recored observations and therefore larger frequencies"
   ]
  },
  {
   "cell_type": "markdown",
   "metadata": {},
   "source": [
    "Earthquakes:\n",
    "1. Earthquakes also appear to occur in a higher from 1950 on. There are a few issues with the data the caused some noticeable variations on the graphs. \n",
    "2. There were fewer recorded earthquakes in the at the beginning of observed period 1965 - 1970 and the average magnitude of these earthquakes was quite a bit higher. I believe this was due to less precise measuring equipment and data for only the larger earthquakes being observed and included in the data sets and therefore skewing towards larger intensities in the beginning. \n",
    "3. Largest magnitude varies each year but does seem to be a up a bit at the end but not in a noticeable way. The GMAPS API shows that earthquakes are found to follow the major fault lines of the Earth\n",
    "\n",
    "\n"
   ]
  },
  {
   "cell_type": "code",
   "execution_count": null,
   "metadata": {},
   "outputs": [],
   "source": []
  }
 ],
 "metadata": {
  "kernelspec": {
   "display_name": "Python 3",
   "language": "python",
   "name": "python3"
  },
  "language_info": {
   "codemirror_mode": {
    "name": "ipython",
    "version": 3
   },
   "file_extension": ".py",
   "mimetype": "text/x-python",
   "name": "python",
   "nbconvert_exporter": "python",
   "pygments_lexer": "ipython3",
   "version": "3.6.4"
  }
 },
 "nbformat": 4,
 "nbformat_minor": 2
}
